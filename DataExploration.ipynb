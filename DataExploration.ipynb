{
 "cells": [
  {
   "cell_type": "code",
   "execution_count": 1,
   "metadata": {},
   "outputs": [],
   "source": [
    "import ast\n",
    "import json\n",
    "import nltk\n",
    "import pandas as pd\n",
    "from copy import deepcopy\n",
    "\n",
    "from src.web_scraping import Digger\n",
    "from src.recipe import Recipe\n",
    "\n",
    "#nltk.download('punkt')\n",
    "countries = {'greek':{'link':'https://www.recipesource.com/ethnic/europe/greek/indexall.html', 'recipes': []},\n",
    "             'british': {'link': 'https://www.recipesource.com/ethnic/europe/british/indexall.html', 'recipes': []},\n",
    "             'german': {'link': 'https://www.recipesource.com/ethnic/europe/french/indexall.html', 'recipes': []},\n",
    "             'filipino':{'link': 'https://www.recipesource.com/ethnic/asia/filipino/indexall.html', 'recipes':[]},\n",
    "             'indian':{'link': 'https://www.recipesource.com/ethnic/asia/indian/indexall.html', 'recipes': []},\n",
    "             'indonesian': {'link': 'https://www.recipesource.com/ethnic/asia/indonesian/indexall.html', 'recipes': []},\n",
    "             'cajun': {'link': 'https://www.recipesource.com/ethnic/americas/cajun/indexall.html', 'recipes': []},\n",
    "             'carribean': {'link': 'https://www.recipesource.com/ethnic/americas/caribbean/indexall.html', 'recipes': []},\n",
    "             'italian':{'link': 'https://www.recipesource.com/ethnic/europe/italian/indexall.html', 'recipes': []},\n",
    "             'mexican': {'link': 'https://www.recipesource.com/ethnic/americas/mexican/indexall.html', 'recipes': []},\n",
    "             'chinese':{'link': 'https://www.recipesource.com/ethnic/asia/chinese/indexall.html', 'recipes': []},\n",
    "             'thai': {'link': 'https://www.recipesource.com/ethnic/asia/thai/indexall.html', 'recipes': []},\n",
    "             'vietnamese': {'link': 'https://www.recipesource.com/ethnic/asia/vietnamese/indexall.html', 'recipes': []},\n",
    "             'french':{'link': 'https://www.recipesource.com/ethnic/europe/french/indexall.html', 'recipes':[]},\n",
    "             'japanese': {'link': 'https://www.recipesource.com/ethnic/asia/japanese/indexall.html', 'recipes': []},\n",
    "             'irish':{'link':'https://www.recipesource.com/ethnic/europe/irish/indexall.html', 'recipes': []},\n",
    "             'korean': {'link': 'https://www.recipesource.com/ethnic/asia/korean/indexall.html', 'recipes': []},\n",
    "             'russian':{'link': 'https://www.recipesource.com/ethnic/europe/russian/indexall.html', 'recipes': []}}\n",
    "    \n",
    "#data_leak_terms = ['greek', 'german', 'filipino', 'indian', 'indonesian', 'cajun', 'carribean', 'italian', 'mexican',\n",
    "#                  'chinese', 'thai', 'vietnamese', 'french', 'japanese', 'irish', 'koren', 'russian', '\\r', \"b'\", 'b\"' '*',\n",
    "#                  '(tm)', 'categories', 'meal master']"
   ]
  },
  {
   "cell_type": "code",
   "execution_count": 40,
   "metadata": {},
   "outputs": [
    {
     "name": "stdout",
     "output_type": "stream",
     "text": [
      "greek :  407\n",
      "british :  92\n",
      "german :  110\n",
      "filipino :  54\n",
      "indian :  589\n",
      "indonesian :  112\n",
      "cajun :  540\n",
      "carribean :  87\n",
      "italian :  657\n",
      "mexican :  768\n",
      "chinese :  0\n",
      "thai :  0\n",
      "vietnamese :  0\n",
      "french :  0\n",
      "japanese :  0\n",
      "irish :  0\n",
      "korean :  0\n",
      "russian :  0\n"
     ]
    }
   ],
   "source": [
    "#with open('web_scrape.json', 'r') as f:\n",
    "#    countries = json.load(f)\n",
    "\n",
    "#dig = Digger(countries)\n",
    "for c in dig.countries:\n",
    "    print(c, \": \", len(dig.countries[c]['recipes']))"
   ]
  },
  {
   "cell_type": "code",
   "execution_count": 38,
   "metadata": {},
   "outputs": [
    {
     "name": "stdout",
     "output_type": "stream",
     "text": [
      "mexican\n",
      "mexican :  768\n"
     ]
    }
   ],
   "source": [
    "dig.dig_soup('mexican')\n"
   ]
  },
  {
   "cell_type": "code",
   "execution_count": 39,
   "metadata": {
    "scrolled": false
   },
   "outputs": [
    {
     "name": "stdout",
     "output_type": "stream",
     "text": [
      "\n",
      "------------------------------------------\n",
      "acapulco chicken (en escabeche) poultry yield 6 servings 2 c unsalted chicken broth 1/2 yellow bell pepper sliced defatted 2 tb minced jalapeno chili with 1 tb olive oil seeds 2 ts ground cumin 1 onion halved thinly sliced 2 tb pickling spice 1/3 c rice wine vinegar 1/2 red bell pepper sliced 1/4 c fresh cilantro leaves 1 lb boneless chicken breast 3 lg garlic cloves minced halves baked (no oil) tortilla chips boil broth pickling spice heavy large saucepan ten minutes. strain return liquid saucepan. add chicken onion vinegar garlic oil cumin pan. simmer over very low heat until chicken just cooked through ten minutes. transfer chicken onions shallow dish. top with bell peppers minced chilli. boil cooking liquid until reduced 2/3 c ten minutes. pour liquid over chicken let cool 30 minutes. add cilantro chicken mixture. cover refrigerate until well chilled turning chicken occasionally 4 hours (can be prepared one day ahead). slice chicken transfer plates. top with marinated vegetables some of juices. pass tortilla chips use as \"pushers.\" 130 calories per serving 4 g fat 72 mg sodium 44 mg cholesterol. bon appetit\\'s light & easy mar \\'93. makes 6 servings '\n",
      "\n",
      "------------------------------------------\n",
      "b\" aceitunas rellenas stuffed olives appetizers yield 6 servings 7 1/2 oz can pitted olives 3/4 oz can anchovy fillets cut small pieces 1 can chopped pimentos 1 clove garlic mashed pressed 1/3 c wine vinegar 1 tb olive oil oil anchovies 1/4 c minced parsley drain olives stuff with anchovy fillets. combine other ingredients except parsley; pour over olives marinate over night. mix parsley half an hour before serving. if idea of stuffing olives throws you don't do it. simply add anchovies marinade pour over olives. these will keep week more if parsley added just before serving. \"\n",
      "\n",
      "------------------------------------------\n",
      "b\" adobo recipe by serving size 1 preparation time 0 00 categories marinades amount measure ingredient preparation method 8 cloves of garlic unpeeled 4 dried chiles anchos stemmed seeded deveined 2 ounces 6 dried chiles guajillos stemmed seeded deveined 1 1/2 ounces 1/2 inch stick cinnamon 1/2 t ground 1 clove pinch ground 10 black peppercorns scant 1/4 t ground 2 lg bay leaves broken up 1/8 ts cumin seed 1/8 t ground 1/2 ts dried oregano 1/2 ts dried thyme 1 1/2 ts salt 1/4 c cider vinegar toasting chiles garlic. roast garlic cloves on griddle heavy skillet over medium heat turning frequently until blackened spots very soft 15 minutes. remove cool skin roughly chop. while garlic roasting tear chiles into flat pieces toast them few at time use metal spatula press them firmly against hot surface few seconds until they blister crackle change color then flip them over press them flat toast other side. soaking dried chiles. break chiles into small bowl cover with boiling water weight with plate keep submerged soak 30 minutes. drain tear into smaller pieces place blender jar add garlic. finishing adobo. mortar spice grinder pulverize cinnamon cloves peppercorns bay leaves cumin. add chiles along with oregano thyme salt vinegar 3 tb water. with long series of blender pulses reduce mixture paste. run blender few seconds until mixture clogs then scrape down sides with spatula stir; repeat dozen times more until mixture smooth. don't add water unless absolutely necessary this marinating paste won't do its job well. strain paste through medium mesh sieve into noncorrosive container with tight fitting lid. cover refrigerate. considerations after soaking chiles they can be put through foley food mill remove skins seeds. add this puree along with garlic small blender jar proceed. if this done mixture put together small blender jar pulsed scraped down mixed very well final sieving can be eliminated. all of chiles can be ancho guajillo. you can substitute 3 1/2 ounces of california new chiles above chiles but flavor will be light. adobo with powdered chiles darker stronger tasting adobo made without tedious series of blender runs roast chiles garlic as directed above then pulverize chiles with cinnamon cloves pepper bay leaves cumin several batches spice grinder; sift through medium mesh sieve. skin garlic mash it smooth paste. mix with powdered chile mixture oregano thyme salt vinegar 6 tb water. store as directed above. \"\n",
      "\n",
      "------------------------------------------\n",
      "b\" adobo (mexican smoked chile marinade) condiments spices marinades yield 1 servings 3 oranges 1 lime 2 3 canned chipotle chilies taste 3 cloves garlic (1 t) 2 ts dried oregano 1/2 ts cumin seed 1/2 ts black pepper 2 tb wine vinegar 1/2 ts salt source foodday july 9 '91 valerie whittle this spicy marinade owes its unusual flavor chipotle smoked jalapeno chile. chipotles are usually sold canned tomato paste. look them at latin american markets. adobo marinade goes particularly well with pork. juice oranges lime. finely chop chilies garlic. place citrus juices chilies garlic oregano cumin black pepper vinegar salt blender puree until smooth. makes enough marinade 1 1/2 2 pounds meat chicken. \"\n",
      "\n",
      "------------------------------------------\n",
      "agua fresca de fruta fruit cooler recipe by serving size 0 preparation time 0 00 categories beverage amount measure ingredient preparation method 2 cups cold water 1 cup ice 2 cups fruit (cut into 1 inch pieces unless otherwise specified) 1/4 cup sugar taste 1 tablespoon fresh lime juice taste this basic delicious with any of fruits/herbs listed below in blender combine all ingredients blend on high speed until completely smooth. pour cooler through fine sieve into glass pitcher. chill cooler stir before serving. makes 5 cups. suggested fruits honeydew cantaloupe mango (use only 1 cup fruit; about 1 small mango) pineapple with few fresh basil leaves watermelon strawberries (halved) with few fresh mint leaves papaya seedless red grapes (whole) red green cactus pears (also known as prickly pears; available at specialty produce markets some supermarkets) halved pulp seeds scooped out (wear rubber gloves) if you want you can always add shot of tequila above drink make it alcoholic. recipe june 1997 gourmet magazine. '\n",
      "\n",
      "------------------------------------------\n",
      "albondigas recipe by serving size 4 preparation time 0 00 categories beef pork main dish amount measure ingredient preparation method 1/2 lb ground pork 1/2 lb ground beef 1 egg 1/2 c brown rice uncooked 1 onion diced fine 1/2 ts tomio (thyme) 8 c water 1 tomato chopped 1 clove garlic diced 1/2 c chili huerta 2 yerba buena 1 thick slice bread 1/2 ts comino (cumin) 2 carrots sliced thin 1 c peas fresh frozen mix pork beef egg rice 1/2 of onion tomio together; make into small balls. bring water boil add balls; simmer at low boil 1 hour. add tomato garlic chili rest of chopped onion; let simmer 35 minutes. add yerba buena simmer 10 minutes. soak bread small amount of soup broth until very soft. place blender with comino; chop together; add soup. next add carrots peas; simmer until vegetables are tender. serve. '\n",
      "\n",
      "------------------------------------------\n",
      "albondigas ~ meatball soup recipe recipe by hanneman riverside ca soup scoop (mcf) serving size 3 preparation time 0 00 categories poultry soup 4star lowfat amount measure ingredient preparation method salsa 1 small ripe tomato seeded chopped 1/2 small jalapeno minced 1/2 whole avocado small chop lemon juice sprayed on avocado 1/2 whole cucumber peeled chopped 2 tablespoons fat free vinaigrette with red bell peppers store bought 1 cup shredded lettuce meatballs 1/2 pound ground turkey breast leanest 1/4 cup graham cracker crumbs 1/4 cup matzo meal 1 small zucchini washed stemmed 1/4 cup chopped sweet onion 1 pinch garlic salt 1 pinch \"corriander cohort\" see pantry 1/2 cup seltzer water divided use vegetable cooking spray 1 teaspoon virgin olive oil soup base 1 clove garlic smashed 30 ounces stewed tomatoes (2 cans) spices 1/2 small jalapeno less taste 15 ounces lowfat chicken broth low salt 1/4 teaspoon oregano vegetables 1 large carrot julienned 1 large celery stalk see detail 1 small zucchini see detail garnish 2 tablespoons chopped fresh cilantro options white corn chips restaurant style 3 teaspoons lowfat monterey jack cheese shredded for salsa make salsa by combining all but lettuce. chill. combine with lettuce closer serving time. for meatballs crumble ground turkey breast meat bowl with the crackers but do not mix yet. process zucchini onion using fine shredding disk. transfer bowl. add pinches of garlic powder the corriander cohort blend (see pantry). add half seltzer meat mixture combine; add more seltzer as needed bind fluff. shape into 1 1 1/4 inch balls brown large oiled skillet over medium high until golden and/or slightly burned \\'grilled\\' flavor. do not crowd meatballs. tip two batches and/or second pan. for soup base meanwhile put canned tomatoes garlic clove a portion of stemmed seeded rought chopped jalapeno processor fitted with metal blade pulse make chunky sauce. add more jalapeno taste. slow cook (4 hrs on #4 5) transfer sauce 4 quart slow cooker (oblong). set dial 5; add broth oregano. heat. transfer the meat balls cooker bring gentle boil. boil 10 minutes. reset dial 4; cook covered 3 hrs then add vegetables. cook 45 60 minutes. tip tender crisp zucchini add it during the last 10 mins. add chopped cilantro near end of time that it warms. detail julienne carrot into 1/4 inch by 1 1 1/2 inch sticks. cut the celery once lenthwise; then diagonally slice 1/4 inch pieces. trim the stem tip washed zucchini; cut into fourths lengthwise then cube. pantry canned ready use chopped tomatoes pre seasoned may be used but we preferred flavor of pre cooked (stewed) tomatoes. keep jar of corriander cohort on hand grind equal parts of pan roasted cumin seed corriander seed black peppercorns (created by steve raichlen). to plate place desired amount of crumbled corn chips large shallow bowl. sprinkle with little cheese. ladle on soup (about 1 1/2 to 1 2/3 cups broth per serving; apportion meatballs vegetables. serve with salad which may be used as relish directly on soup. variation ~ fast cook (60 mins) transfer sauce soup pot heat to a gentle steady boil. transfer meatballs broth reduce heat a simmer (medium medium low); cook meat 35 minutes. add carrots and celery; cook 5 mins. add zucchini cook 4 5 mins. add cilantro cook about 2 mins. serve. description zucchini one of our favorites. here they are teamed with a bright red tomato sauce that clings light fluffy meatballs. pepper scale mild moderate. time? half day slow cooker an hour on stove top. serves 2 4; 19.5% cff (352 cals 8.4g fat) not counting optional tostitos. nutr. assoc. 0 0 0 0 0 0 0 0 0 5336 0 0 0 0 0 0 0 0 0 0 0 5132 0 0 0 0 0 0 0 0 0 0 0 4043 '\n",
      "\n",
      "------------------------------------------\n",
      "anticuchos recipe by serving size 6 preparation time 0 00 categories meats amount measure ingredient preparation method 1 lg sirloin steak 2 lg garlic cloves 4 6 medium jalapeno peppers 1 c red wine vinegar 1 1/2 c water 2 ts salt 1/2 ts pepper 1 t oregano 1 t cumin 1 t ground red chile blender food processor grind jalapenos peeled garlic pulp. add all other ingredients except meat blend well. cut meat into 1 inch cubes place large bowl cover with marinade. marinate overnight all day. place meat on skewers cook on grill over mesquite wood basting frequently with sauce. serve with warm flour tortillas plenty of beer with lime slices. cow country cusine by kathy g. mc craine copyright 1988 '\n",
      "\n",
      "------------------------------------------\n",
      "arroz con pollo yield 6 servings 1/2 c olive oil 1/4 c tomato sauce 1 ea frying chicken cut up 1/8 ts saffron (powdered) 1 ea small onion chopped 2 1/2 c chicken broth 1 ea clove garlic minced 1 c uncooked rice 1 x salt pepper taste heat oil brown chicken on both sides. add onion garlic fry few minutes then add tomato sauce saffron dissolved chicken broth salt pepper. cover cook 20 minutes. add rice stir well cover again simmer 30 minutes longer until all liquid has been absorbed chicken tender. '\n",
      "\n",
      "------------------------------------------\n",
      "arroz con pollo main dish poultry yield 4 servings 1 tb vegetable oil 1 lb chicken breasts (boneless skinless) cut into thick strips 1 md onion; chopped 1 md green pepper; chopped 1 md red pepper; chopped 1 garlic clove; minced 1 ts chili powder 1/2 ts ground cumin 1/2 ts salt 1/2 ts ground black pepper 1/4 ts turmeric 1 c uncooked rice 1 md tomato; seeded & chopped 2 c chicken broth heat oil large skillet over medium heat. cook chicken 8 10 minutes until brown on all sides. remove pan. add onion green pepper red pepper garlic chili powder cumin salt pepper turmeric. cook 2 3 minutes until vegetables are tender. add rice tomatoes; stir until rice lightly browned. add broth; bring mixture boil place chicken pieces on top of mixture. cover simmer 20 minutes. serve fluff with fork stirring chicken pieces. each serving provides 358 calories 35.8 g. protein 4.9 g. fat 40.3 g. carbohydrate 2.1 g. dietary fiber 74 mg. cholesterol 1155 mg. sodium source many nationalities of rice reprinted with permission usa rice council electronic format courtesy of karen mintzias '\n"
     ]
    }
   ],
   "source": [
    "for i in range(10):\n",
    "    print('\\n------------------------------------------')\n",
    "    print(dig.countries['mexican']['recipes'][i]) "
   ]
  },
  {
   "cell_type": "code",
   "execution_count": 1,
   "metadata": {},
   "outputs": [
    {
     "ename": "NameError",
     "evalue": "name 'dig' is not defined",
     "output_type": "error",
     "traceback": [
      "\u001b[1;31m---------------------------------------------------------------------------\u001b[0m",
      "\u001b[1;31mNameError\u001b[0m                                 Traceback (most recent call last)",
      "\u001b[1;32m<ipython-input-1-973d18fc8754>\u001b[0m in \u001b[0;36m<module>\u001b[1;34m()\u001b[0m\n\u001b[0;32m     12\u001b[0m             \u001b[0mprint\u001b[0m\u001b[1;33m(\u001b[0m\u001b[1;34m'---------------------------------------------------------------\\n'\u001b[0m\u001b[1;33m)\u001b[0m\u001b[1;33m\u001b[0m\u001b[0m\n\u001b[0;32m     13\u001b[0m \u001b[1;33m\u001b[0m\u001b[0m\n\u001b[1;32m---> 14\u001b[1;33m \u001b[0mremove_leak_words\u001b[0m\u001b[1;33m(\u001b[0m\u001b[0mdig\u001b[0m\u001b[1;33m.\u001b[0m\u001b[0mcountries\u001b[0m\u001b[1;33m,\u001b[0m \u001b[0mdata_leak_terms\u001b[0m\u001b[1;33m)\u001b[0m\u001b[1;33m\u001b[0m\u001b[0m\n\u001b[0m",
      "\u001b[1;31mNameError\u001b[0m: name 'dig' is not defined"
     ]
    }
   ],
   "source": []
  },
  {
   "cell_type": "code",
   "execution_count": 41,
   "metadata": {},
   "outputs": [],
   "source": [
    "#print(len(dig.countries['chinese']['recipes']))\n",
    "#with open('web_scrape.json', 'w') as outfile:\n",
    "#    json.dump(dig.countries, outfile)"
   ]
  },
  {
   "cell_type": "code",
   "execution_count": null,
   "metadata": {},
   "outputs": [],
   "source": [
    "def build_training_set(filename, countries):\n",
    "    \n",
    "    with open(filename, 'r') as f:\n",
    "        train_r = json.load(f)\n",
    "\n",
    "    for key, val in train_r.items():\n",
    "        for c in countries:\n",
    "            if 'title' in train_r[key]:\n",
    "                try:\n",
    "                    train_r[key]['title'].lower()\n",
    "                    instructions = train_r[key]['instructions'].lower().replace('\\n', '')\n",
    "                    ingredients = ' '.join(train_r[key]['ingredients'])\n",
    "                except AttributeError:\n",
    "                    continue\n",
    "                if c in train_r[key]['title'].lower():\n",
    "                    countries[c].append(' '.join([ingredients, instructions]).replace('advertisement', ''))\n",
    "            "
   ]
  },
  {
   "cell_type": "code",
   "execution_count": null,
   "metadata": {},
   "outputs": [],
   "source": [
    "filenames = ['data/recipes_raw_nosource_ar.json', 'data/recipes_raw_nosource_epi.json', 'data/recipes_raw_nosource_fn.json']\n",
    "\n",
    "for f in filenames:\n",
    "    build_training_set(f, countries)\n"
   ]
  },
  {
   "cell_type": "code",
   "execution_count": null,
   "metadata": {},
   "outputs": [],
   "source": [
    "sum = 0\n",
    "for c in countries:\n",
    "    sum += len(countries[c])\n",
    "    print(c, ': ', len(countries[c]))\n",
    "print(sum)"
   ]
  },
  {
   "cell_type": "code",
   "execution_count": null,
   "metadata": {},
   "outputs": [],
   "source": [
    "fish = ['anchovies', 'barracuda', 'basa', 'bass', 'cod', 'sablefish', 'blowfish', 'bluefish',\n",
    "        'bombay duck', 'bream', 'brill', 'butter fish', 'catfish', 'dogfish', 'dorade', 'eel',\n",
    "        'flounder', 'grouper', 'haddock', 'hake', 'halibut', 'herring', 'ilish', 'john dory', 'lamprey',\n",
    "        'lingcod', 'mackerel', 'mahi mahi', 'monkfish', 'mullet', 'orange roughy', 'parrotfish', 'patagonian toothfish',\n",
    "        'perch', 'pike', 'pilchard', 'pollock', 'pomfret', 'pompano', 'sablefish', 'salmon', 'sanddab', 'sardine',\n",
    "        'sea bass', 'shad', 'alewife', 'shark', 'skate', 'smelt', 'snakehead', 'snapper', 'rockfish', 'sole', 'sprat', \n",
    "        'sturgeon', 'surimi', 'swordfish', 'tilapia', 'tilefish', 'trout', 'tuna', 'albacore', 'yellowfin', 'bigeye',\n",
    "        'bluefin', 'dogtooth', 'turbot', 'wahoo', 'whitefish', 'whiting', 'witch', 'righteye', 'whitebait', 'roe', 'caviar',\n",
    "        'ikura', 'kazunoko', 'lumpfish','masago', 'capelin', 'tobiko', 'flying-fish', 'shellfish', 'crustaceans', 'crab',\n",
    "        'dungeness', 'crayfish', 'langostino', 'lobster', 'shrimp', 'prawns', 'mollusca', 'cockle', 'cuttlefish', 'clam',\n",
    "        'loco', 'mussel', 'octopus', 'oyster', 'periwinkle', 'scallop', 'squid', 'escargot', 'snails', 'nautilus', 'dolphin',\n",
    "        'seal', 'whale', 'echinoderms', 'sea cucumber', 'uni', 'sea urchin', 'roe', 'medusozoa', 'Tunicates', 'sea squirts',\n",
    "        'microcosmus', 'sabatieri', 'sea fig', 'sea violet', 'crabmeat']\n",
    "\n",
    "meat = ['chicken', 'turkey', 'duck', 'mallard', 'goose','greylag', 'guinea', 'fowl', 'pigeon', 'dove', 'quail',\n",
    "        'partridge', 'swiftlet', 'swan', 'beef', 'steak', 'sirloin', 'veal', 'brisket', 'pork', 'ham', 'bacon', 'shank', 'lamb',\n",
    "        'mutton', 'goat', 'chuck']\n",
    "\n",
    "keyword = ['meat', 'seafood', 'vegetarian', 'vegan']\n"
   ]
  },
  {
   "cell_type": "code",
   "execution_count": null,
   "metadata": {},
   "outputs": [],
   "source": [
    "import json\n",
    "with open('data/train.json/train.json', 'r') as f:\n",
    "    nationalities = json.load(f)\n",
    "print(type(nationalities))\n",
    "limited = nationalities#[:10000]"
   ]
  },
  {
   "cell_type": "code",
   "execution_count": null,
   "metadata": {},
   "outputs": [],
   "source": [
    "from sklearn.model_selection import train_test_split, StratifiedKFold\n",
    "train, test = train_test_split(limited, test_size=0.2, random_state=4622)\n"
   ]
  },
  {
   "cell_type": "code",
   "execution_count": null,
   "metadata": {},
   "outputs": [],
   "source": [
    "train_dict = {'ingredients':[], \n",
    "              'cuisine': []}\n",
    "for x in train:\n",
    "    train_dict['ingredients'].append(' '.join(x['ingredients']))\n",
    "    train_dict['cuisine'].append(x['cuisine'])\n",
    "    \n",
    "test_dict = {'ingredients':[], \n",
    "              'cuisine': []}\n",
    "for x in test:\n",
    "    test_dict['ingredients'].append(' '.join(x['ingredients']))\n",
    "    test_dict['cuisine'].append(x['cuisine'])"
   ]
  },
  {
   "cell_type": "code",
   "execution_count": null,
   "metadata": {},
   "outputs": [],
   "source": [
    "X_train = train_dict['ingredients']\n",
    "X_test = test_dict['ingredients']\n",
    "y_train = train_dict['cuisine']\n",
    "y_test = test_dict['cuisine']\n",
    "\n",
    "len(X_train),len(y_train),len(X_test),len(y_test)\n",
    "\n",
    "\n",
    "skf = StratifiedKFold(n_splits=3, shuffle=False, random_state=None)\n",
    "splits = skf.get_n_splits(X_train, y_train)"
   ]
  },
  {
   "cell_type": "code",
   "execution_count": null,
   "metadata": {},
   "outputs": [],
   "source": [
    "import numpy as np\n",
    "from sklearn import linear_model, datasets\n",
    "from sklearn.model_selection import GridSearchCV\n",
    "from sklearn.datasets import make_classification\n",
    "import nltk\n",
    "from nltk.corpus import stopwords\n",
    "from nltk.tokenize import TweetTokenizer\n",
    "from sklearn.feature_extraction.text import CountVectorizer\n",
    "from sklearn.svm import SVC\n",
    "from sklearn.pipeline import make_pipeline, Pipeline\n",
    "from sklearn import linear_model, datasets\n",
    "from sklearn.model_selection import GridSearchCV\n",
    "from sklearn.metrics import accuracy_score, f1_score\n",
    "from sklearn.metrics import confusion_matrix, roc_auc_score, recall_score, precision_score"
   ]
  },
  {
   "cell_type": "code",
   "execution_count": null,
   "metadata": {},
   "outputs": [],
   "source": [
    "# Create logistic regression\n",
    "logistic = linear_model.LogisticRegression()\n",
    "\n",
    "# Create regularization penalty space\n",
    "penalty = ['l2']\n",
    "\n",
    "# Create regularization hyperparameter space\n",
    "C = np.logspace(0, 1.5, 5)\n",
    "\n",
    "solver = ['liblinear', 'newton-cg', 'lbfgs']\n",
    "\n",
    "\n",
    "class_weight = ['balanced']\n",
    "\n",
    "# Create hyperparameter options\n",
    "hyperparameters = dict(C=C, penalty=penalty, solver=solver, class_weight=class_weight)\n"
   ]
  },
  {
   "cell_type": "code",
   "execution_count": null,
   "metadata": {},
   "outputs": [],
   "source": [
    "pipeline = Pipeline([('clf',linear_model.LogisticRegression())])\n"
   ]
  },
  {
   "cell_type": "code",
   "execution_count": null,
   "metadata": {},
   "outputs": [],
   "source": [
    "from sklearn.model_selection import train_test_split\n",
    "from sklearn import preprocessing\n",
    "from sklearn.feature_extraction.text import CountVectorizer\n",
    "from sklearn.feature_extraction.text import TfidfTransformer\n",
    "from sklearn.naive_bayes import MultinomialNB\n",
    "\n",
    "count_vect = CountVectorizer()\n",
    "X_train_counts = count_vect.fit_transform(X_train)\n",
    "tfidf_transformer = TfidfTransformer()\n",
    "X_train_tfidf = tfidf_transformer.fit_transform(X_train_counts)\n",
    "print(X_train_tfidf.shape)\n",
    "\n",
    "\n",
    "le = preprocessing.LabelEncoder()\n",
    "le.fit(y_train)\n",
    "y_train_transform = le.transform(y_train)\n",
    "print(len(y_train_transform))"
   ]
  },
  {
   "cell_type": "code",
   "execution_count": null,
   "metadata": {},
   "outputs": [],
   "source": [
    "# Create grid search using 5-fold cross validation\n",
    "clf = GridSearchCV(logistic, hyperparameters, cv=splits, verbose=3)\n",
    "\n",
    "# Fit grid search\n",
    "best_model = clf.fit(X_train_counts, y_train_transform)\n",
    "\n",
    "# View best hyperparameters\n",
    "print('Best Penalty:', best_model.best_estimator_.get_params()['penalty'])\n",
    "print('Best C:', best_model.best_estimator_.get_params()['C'])"
   ]
  },
  {
   "cell_type": "code",
   "execution_count": null,
   "metadata": {},
   "outputs": [],
   "source": [
    "print(best_model.best_params_)\n",
    "print(best_model.best_score_)\n"
   ]
  },
  {
   "cell_type": "code",
   "execution_count": null,
   "metadata": {},
   "outputs": [],
   "source": [
    "from joblib import dump, load\n",
    "\n",
    "dump(rf_random, 'random_tree.joblib') \n",
    "clf = load('random_tree.joblib') \n"
   ]
  }
 ],
 "metadata": {
  "kernelspec": {
   "display_name": "Python 3",
   "language": "python",
   "name": "python3"
  },
  "language_info": {
   "codemirror_mode": {
    "name": "ipython",
    "version": 3
   },
   "file_extension": ".py",
   "mimetype": "text/x-python",
   "name": "python",
   "nbconvert_exporter": "python",
   "pygments_lexer": "ipython3",
   "version": "3.6.5"
  }
 },
 "nbformat": 4,
 "nbformat_minor": 2
}
