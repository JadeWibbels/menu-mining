{
 "cells": [
  {
   "cell_type": "markdown",
   "metadata": {},
   "source": [
    "# Menu Mining #\n",
    "\n",
    "For the first phase of this project we needed to find websites that had recipes tagged with their origin country or region. The recipes were scraped from these sources using beautiful soup. We used Recipesource.com as a primary resource. The website address for each of the nationalities with at least 60 recipes was recorded and we implemented a custom web scraping class (Digger)\n"
   ]
  },
  {
   "cell_type": "code",
   "execution_count": null,
   "metadata": {},
   "outputs": [],
   "source": [
    "from src.web_scraping import Digger\n",
    "\n",
    "#empty country list with html address and empty list for recipes\n",
    "countries = {'greek':{'link':'https://www.recipesource.com/ethnic/europe/greek/indexall.html', 'recipes': []},\n",
    "             'british': {'link': 'https://www.recipesource.com/ethnic/europe/british/indexall.html', 'recipes': []},\n",
    "             'german': {'link': 'https://www.recipesource.com/ethnic/europe/french/indexall.html', 'recipes': []},\n",
    "             'filipino':{'link': 'https://www.recipesource.com/ethnic/asia/filipino/indexall.html', 'recipes':[]},\n",
    "             'indian':{'link': 'https://www.recipesource.com/ethnic/asia/indian/indexall.html', 'recipes': []},\n",
    "             'indonesian': {'link': 'https://www.recipesource.com/ethnic/asia/indonesian/indexall.html', 'recipes': []},\n",
    "             'cajun': {'link': 'https://www.recipesource.com/ethnic/americas/cajun/indexall.html', 'recipes': []},\n",
    "             'carribean': {'link': 'https://www.recipesource.com/ethnic/americas/caribbean/indexall.html', 'recipes': []},\n",
    "             'italian':{'link': 'https://www.recipesource.com/ethnic/europe/italian/indexall.html', 'recipes': []},\n",
    "             'mexican': {'link': 'https://www.recipesource.com/ethnic/americas/mexican/indexall.html', 'recipes': []},\n",
    "             'chinese':{'link': 'https://www.recipesource.com/ethnic/asia/chinese/indexall.html', 'recipes': []},\n",
    "             'thai': {'link': 'https://www.recipesource.com/ethnic/asia/thai/indexall.html', 'recipes': []},\n",
    "             'vietnamese': {'link': 'https://www.recipesource.com/ethnic/asia/vietnamese/indexall.html', 'recipes': []},\n",
    "             'french':{'link': 'https://www.recipesource.com/ethnic/europe/french/indexall.html', 'recipes':[]},\n",
    "             'japanese': {'link': 'https://www.recipesource.com/ethnic/asia/japanese/indexall.html', 'recipes': []},\n",
    "             'irish':{'link':'https://www.recipesource.com/ethnic/europe/irish/indexall.html', 'recipes': []},\n",
    "             'korean': {'link': 'https://www.recipesource.com/ethnic/asia/korean/indexall.html', 'recipes': []},\n",
    "             'russian':{'link': 'https://www.recipesource.com/ethnic/europe/russian/indexall.html', 'recipes': []}}\n",
    "# instantiate webscraping class\n",
    "dig = Digger(countries)\n",
    "#scrape recipes for each country in list\n",
    "for c in dig.countries:\n",
    "    dig.dig_soup(c)\n",
    "    print(c, \": \", len(dig.countries[c]['recipes']))"
   ]
  },
  {
   "cell_type": "markdown",
   "metadata": {},
   "source": [
    "The Digger class holds a list of stop words, words which could cause data leaks. We want to isolate for words related to food and cooking techniques. "
   ]
  },
  {
   "cell_type": "code",
   "execution_count": null,
   "metadata": {},
   "outputs": [],
   "source": [
    "with open('web_scrape.json', 'w') as outfile:\n",
    "    json.dump(dig.countries, outfile)"
   ]
  }
 ],
 "metadata": {
  "kernelspec": {
   "display_name": "Python 3",
   "language": "python",
   "name": "python3"
  },
  "language_info": {
   "codemirror_mode": {
    "name": "ipython",
    "version": 3
   },
   "file_extension": ".py",
   "mimetype": "text/x-python",
   "name": "python",
   "nbconvert_exporter": "python",
   "pygments_lexer": "ipython3",
   "version": "3.6.5"
  }
 },
 "nbformat": 4,
 "nbformat_minor": 2
}
